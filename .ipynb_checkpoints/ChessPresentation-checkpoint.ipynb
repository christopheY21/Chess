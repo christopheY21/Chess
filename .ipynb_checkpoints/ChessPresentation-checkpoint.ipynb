{
 "cells": [
  {
   "cell_type": "markdown",
   "id": "738a8e84",
   "metadata": {},
   "source": [
    "# Souttenance du programme d'échec"
   ]
  },
  {
   "cell_type": "markdown",
   "id": "1b241763",
   "metadata": {},
   "source": [
    "# Structure de projet composé de 2 modules\n",
    "\n",
    "GameClass :\n",
    "Implémentation du plateau de jeu\n",
    "ChessPieces :\n",
    "Implémentation des pièces"
   ]
  },
  {
   "cell_type": "code",
   "execution_count": 1,
   "id": "1044d889",
   "metadata": {},
   "outputs": [
    {
     "name": "stdout",
     "output_type": "stream",
     "text": [
      "Select White player AI/Personne :enter a/p:p\n",
      "Select Black player AI/Personne :enter a/p:p\n",
      "['0', '1', '2', '3', '4', '5', '6', '7']\n",
      "['♜', '♞', '♝', '♛', '♚', '♝', '♞', '♜'] 0\n",
      "['♟', '♟', '♟', '♟', '♟', '♟', '♟', '♟'] 1\n",
      "['□', '■', '□', '■', '□', '■', '□', '■'] 2\n",
      "['■', '□', '■', '□', '■', '□', '■', '□'] 3\n",
      "['□', '■', '□', '■', '□', '■', '□', '■'] 4\n",
      "['■', '□', '■', '□', '■', '□', '■', '□'] 5\n",
      "['♙', '♙', '♙', '♙', '♙', '♙', '♙', '♙'] 6\n",
      "['♖', '♘', '♗', '♕', '♔', '♗', '♘', '♖'] 7\n",
      "Le temps de jeu des blancs est :0:00:00\n",
      "C'est au tour des blanc de jouer!\n",
      "(0, 5, '♙') 0\n",
      "(0, 4, '♙') 1\n",
      "(1, 5, '♙') 2\n",
      "(1, 4, '♙') 3\n",
      "(2, 5, '♘') 4\n",
      "(0, 5, '♘') 5\n",
      "(2, 5, '♙') 6\n",
      "(2, 4, '♙') 7\n",
      "(3, 5, '♙') 8\n",
      "(3, 4, '♙') 9\n",
      "(4, 5, '♙') 10\n",
      "(4, 4, '♙') 11\n",
      "(5, 5, '♙') 12\n",
      "(5, 4, '♙') 13\n",
      "(6, 5, '♙') 14\n",
      "(6, 4, '♙') 15\n",
      "(7, 5, '♘') 16\n",
      "(5, 5, '♘') 17\n",
      "(7, 5, '♙') 18\n",
      "(7, 4, '♙') 19\n",
      "You can resign if you input 'resign' you can propose a draw with 'draw':\n",
      "Which move do you chose ?:0\n",
      "['0', '1', '2', '3', '4', '5', '6', '7']\n",
      "['♜', '♞', '♝', '♛', '♚', '♝', '♞', '♜'] 0\n",
      "['♟', '♟', '♟', '♟', '♟', '♟', '♟', '♟'] 1\n",
      "['□', '■', '□', '■', '□', '■', '□', '■'] 2\n",
      "['■', '□', '■', '□', '■', '□', '■', '□'] 3\n",
      "['□', '■', '□', '■', '□', '■', '□', '■'] 4\n",
      "['♙', '□', '■', '□', '■', '□', '■', '□'] 5\n",
      "['□', '♙', '♙', '♙', '♙', '♙', '♙', '♙'] 6\n",
      "['♖', '♘', '♗', '♕', '♔', '♗', '♘', '♖'] 7\n",
      "Le temps de jeu des noirs est :0:00:00\n",
      "C'est au tour des Noirs de jouer!\n",
      "(0, 2, '♟') 0\n",
      "(0, 3, '♟') 1\n",
      "(2, 2, '♞') 2\n",
      "(0, 2, '♞') 3\n",
      "(1, 2, '♟') 4\n",
      "(1, 3, '♟') 5\n",
      "(2, 2, '♟') 6\n",
      "(2, 3, '♟') 7\n",
      "(3, 2, '♟') 8\n",
      "(3, 3, '♟') 9\n",
      "(4, 2, '♟') 10\n",
      "(4, 3, '♟') 11\n",
      "(5, 2, '♟') 12\n",
      "(5, 3, '♟') 13\n",
      "(7, 2, '♞') 14\n",
      "(5, 2, '♞') 15\n",
      "(6, 2, '♟') 16\n",
      "(6, 3, '♟') 17\n",
      "(7, 2, '♟') 18\n",
      "(7, 3, '♟') 19\n",
      "You can resign if you input 'resign' you can propose a draw with 'draw':\n",
      "Which move do you chose ?:0\n",
      "['0', '1', '2', '3', '4', '5', '6', '7']\n",
      "['♜', '♞', '♝', '♛', '♚', '♝', '♞', '♜'] 0\n",
      "['■', '♟', '♟', '♟', '♟', '♟', '♟', '♟'] 1\n",
      "['♟', '■', '□', '■', '□', '■', '□', '■'] 2\n",
      "['■', '□', '■', '□', '■', '□', '■', '□'] 3\n",
      "['□', '■', '□', '■', '□', '■', '□', '■'] 4\n",
      "['♙', '□', '■', '□', '■', '□', '■', '□'] 5\n",
      "['□', '♙', '♙', '♙', '♙', '♙', '♙', '♙'] 6\n",
      "['♖', '♘', '♗', '♕', '♔', '♗', '♘', '♖'] 7\n",
      "Le temps de jeu des blancs est :0:00:10.943569\n",
      "C'est au tour des blanc de jouer!\n",
      "(0, 4, '♙') 0\n",
      "(1, 5, '♙') 1\n",
      "(1, 4, '♙') 2\n",
      "(2, 5, '♘') 3\n",
      "(2, 5, '♙') 4\n",
      "(2, 4, '♙') 5\n",
      "(3, 5, '♙') 6\n",
      "(3, 4, '♙') 7\n",
      "(4, 5, '♙') 8\n",
      "(4, 4, '♙') 9\n",
      "(5, 5, '♙') 10\n",
      "(5, 4, '♙') 11\n",
      "(6, 5, '♙') 12\n",
      "(6, 4, '♙') 13\n",
      "(7, 5, '♘') 14\n",
      "(5, 5, '♘') 15\n",
      "(7, 5, '♙') 16\n",
      "(7, 4, '♙') 17\n",
      "You can resign if you input 'resign' you can propose a draw with 'draw':\n",
      "Which move do you chose ?:resign\n",
      "White resign\n"
     ]
    }
   ],
   "source": [
    "import GameClass\n",
    "chess=GameClass.ChessBoard()\n",
    "#Presentation de jeu a 2 joueurs\n",
    "#Presentation du clock system\n",
    "#Presentation du resign/Draw system\n",
    "chess.startTheGame()"
   ]
  },
  {
   "cell_type": "code",
   "execution_count": null,
   "id": "82f84006",
   "metadata": {},
   "outputs": [],
   "source": [
    "with open(\"history.pgn\",\"r\") as history:\n",
    "    print(history.read())"
   ]
  }
 ],
 "metadata": {
  "kernelspec": {
   "display_name": "Python 3 (ipykernel)",
   "language": "python",
   "name": "python3"
  },
  "language_info": {
   "codemirror_mode": {
    "name": "ipython",
    "version": 3
   },
   "file_extension": ".py",
   "mimetype": "text/x-python",
   "name": "python",
   "nbconvert_exporter": "python",
   "pygments_lexer": "ipython3",
   "version": "3.8.3"
  }
 },
 "nbformat": 4,
 "nbformat_minor": 5
}
